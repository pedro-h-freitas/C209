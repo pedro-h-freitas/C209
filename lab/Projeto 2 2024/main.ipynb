{
 "cells": [
  {
   "cell_type": "markdown",
   "metadata": {},
   "source": [
    "# Projeto 2"
   ]
  },
  {
   "cell_type": "code",
   "execution_count": 1,
   "metadata": {},
   "outputs": [],
   "source": [
    "import moviepy.editor as mpe\n",
    "import numpy as np\n",
    "import matplotlib.pyplot as plt\n",
    "import math"
   ]
  },
  {
   "cell_type": "markdown",
   "metadata": {},
   "source": [
    "#### Carrega video original"
   ]
  },
  {
   "cell_type": "code",
   "execution_count": 2,
   "metadata": {},
   "outputs": [],
   "source": [
    "original = mpe.VideoFileClip(\"inicial.mp4\")"
   ]
  },
  {
   "cell_type": "markdown",
   "metadata": {},
   "source": [
    "#### Iverter a imagem, no eixo, a cada 20 segundos"
   ]
  },
  {
   "cell_type": "code",
   "execution_count": 3,
   "metadata": {},
   "outputs": [],
   "source": [
    "# Inverte um frame\n",
    "def refl_frame(frame):\n",
    "    frame_refl = np.zeros(shape=frame.shape, dtype=np.uint8)\n",
    "    frame_refl[::1, ::-1] = frame\n",
    "\n",
    "    return frame_refl\n",
    "\n",
    "# Dentro de um intervalo de 40s \n",
    "# nos 20 primeiros o video se mantem como no orginal \n",
    "# e nos 20 ultimos a imagem é invertida\n",
    "def refl_frame_each_20(get_frame, t):\n",
    "    time = math.floor(t)\n",
    "    if (time % 40) in range(20, 40):\n",
    "        return refl_frame(get_frame(t))\n",
    "    return get_frame(t)\n",
    "\n",
    "video_mod: mpe.VideoClip = original.fl(refl_frame_each_20)"
   ]
  },
  {
   "cell_type": "markdown",
   "metadata": {},
   "source": [
    "#### Diminuir o som, de forma gradativa, a cada 30 segundos, de forma que os últimos 10 segundos fique sem silêncio (sem som)"
   ]
  },
  {
   "cell_type": "code",
   "execution_count": 4,
   "metadata": {},
   "outputs": [],
   "source": [
    "total_duration = video_mod.duration\n",
    "total_parts = math.floor((total_duration) / 30)\n",
    "\n",
    "def calc_factors_array(t, audio_shape):\n",
    "    end_mask = t >= total_duration - 10\n",
    "    intervals = t // 30\n",
    "    \n",
    "    factors = 1 - intervals / total_parts\n",
    "    factors[end_mask] = 0\n",
    "\n",
    "    return np.tile(np.maximum(factors, 0), (audio_shape[1], 1)).T\n",
    "\n",
    "def reduce_volume(get_audio_frame, t):\n",
    "    af = get_audio_frame(t)\n",
    "    factors = calc_factors_array(t, af.shape)\n",
    "\n",
    "    return af * factors\n",
    "\n",
    "\n",
    "audio_mod = video_mod.audio.fl(reduce_volume)\n",
    "video_mod = video_mod.set_audio(audio_mod)"
   ]
  },
  {
   "cell_type": "markdown",
   "metadata": {},
   "source": [
    "#### Após o primeiro minuto, 60 segundos, fazer um corte para o segundo 80"
   ]
  },
  {
   "cell_type": "code",
   "execution_count": 5,
   "metadata": {},
   "outputs": [],
   "source": [
    "video_mod_start = video_mod.subclip(0, 60)\n",
    "video_mod_cut = video_mod.subclip(60, 80)\n",
    "video_mod_end = video_mod.subclip(80)\n",
    "\n",
    "video_mod = mpe.concatenate_videoclips([video_mod_start, video_mod_end])"
   ]
  },
  {
   "cell_type": "markdown",
   "metadata": {},
   "source": [
    "#### Por fim, insira os 20 segundos cortados acima no fim do video"
   ]
  },
  {
   "cell_type": "code",
   "execution_count": 6,
   "metadata": {},
   "outputs": [],
   "source": [
    "final = mpe.concatenate_videoclips([video_mod, video_mod_cut])"
   ]
  },
  {
   "cell_type": "markdown",
   "metadata": {},
   "source": [
    "#### Salvar Video final"
   ]
  },
  {
   "cell_type": "code",
   "execution_count": 7,
   "metadata": {},
   "outputs": [
    {
     "name": "stdout",
     "output_type": "stream",
     "text": [
      "Moviepy - Building video final.mp4.\n",
      "MoviePy - Writing audio in finalTEMP_MPY_wvf_snd.mp3\n"
     ]
    },
    {
     "name": "stderr",
     "output_type": "stream",
     "text": [
      "                                                                      \r"
     ]
    },
    {
     "name": "stdout",
     "output_type": "stream",
     "text": [
      "MoviePy - Done.\n",
      "Moviepy - Writing video final.mp4\n",
      "\n"
     ]
    },
    {
     "name": "stderr",
     "output_type": "stream",
     "text": [
      "                                                                 \r"
     ]
    },
    {
     "name": "stdout",
     "output_type": "stream",
     "text": [
      "Moviepy - Done !\n",
      "Moviepy - video ready final.mp4\n"
     ]
    }
   ],
   "source": [
    "final.write_videofile(\"final.mp4\")"
   ]
  }
 ],
 "metadata": {
  "kernelspec": {
   "display_name": "venv",
   "language": "python",
   "name": "python3"
  },
  "language_info": {
   "codemirror_mode": {
    "name": "ipython",
    "version": 3
   },
   "file_extension": ".py",
   "mimetype": "text/x-python",
   "name": "python",
   "nbconvert_exporter": "python",
   "pygments_lexer": "ipython3",
   "version": "3.12.5"
  }
 },
 "nbformat": 4,
 "nbformat_minor": 2
}
